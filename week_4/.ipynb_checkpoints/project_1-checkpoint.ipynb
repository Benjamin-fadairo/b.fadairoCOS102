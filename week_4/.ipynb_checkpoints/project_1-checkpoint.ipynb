{
 "cells": [
  {
   "cell_type": "code",
   "execution_count": 37,
   "id": "a82203b5-d6f4-48bc-a176-4294805268a6",
   "metadata": {},
   "outputs": [
    {
     "name": "stdout",
     "output_type": "stream",
     "text": [
      "| NAME | GENDER | AGE | HEIGHT | SCORES \n",
      "| Evely | Female | 17 | 5.5 | 80\n",
      "| Jessica | Female | 16 | 6.0 | 85\n",
      "| Somto | Female | 17 | 5.4 | 70\n",
      "| Edith | Female | 18 | 5.9 | 60\n",
      "| Liza | Female | 16 | 5.6 | 76\n",
      "| Madonna | Female | 18 | 5.5 | 66\n",
      "| Waje | Female | 17 | 6.1 | 87\n",
      "| Tola | Female | 20 | 6.0 | 95\n",
      "| Aisha | Female | 19 | 5.7 | 50\n",
      "| Latifa | Female | 17 | 5.5 | 49\n",
      "| Chinedu | Male | 19 | 5.7 | 74\n",
      "| Liam | Male | 16 | 5.9 | 87\n",
      "| Wale | Male | 18 | 5.8 | 75\n",
      "| Gbenga | Male | 17 | 6.1 | 68\n",
      "| Abiola | Male | 20 | 5.9 | 66\n",
      "| Kola | Male | 19 | 5.5 | 78\n",
      "| Kunle | Male | 16 | 6.1 | 87\n",
      "| George | Male | 18 | 5.4 | 98\n",
      "| Thomas | Male | 17 | 5.8 | 54\n",
      "| Wesley | Male | 19 | 5.7 | 60\n"
     ]
    }
   ],
   "source": [
    "studentsinfo = [[\"Evely\",\"Female\",17,5.5,80],\n",
    "                 [\"JessicaS\",\"Female\",16,6.0,85],\n",
    "                 [\"Somto\",\"Female\",17,5.4,70],\n",
    "                 [\"Edith\",\"Female\",18,5.9,60],\n",
    "                 [\"Liza\",\"Female\",16,5.6,76],\n",
    "                 [\"Madonna\",\"Female\",18,5.5,66],\n",
    "                 [\"Waje\",\"Female\",17,6.1,87],\n",
    "                 [\"Tola\",\"Female\",20,6.0,95],\n",
    "                 [\"Aisha\",\"Female\",19,5.7,50],\n",
    "                 [\"Latifa\",\"Female\",17,5.5,49],\n",
    "                 [\"Chinedu\",\"Male\",19,5.7,74],\n",
    "                 [\"Liam\",\"Male\",16,5.9,87],\n",
    "                 [\"Wale\",\"Male\",18,5.8,75],\n",
    "                 [\"Gbenga\",\"Male\",17,6.1,68],\n",
    "                 [\"Abiola\",\"Male\",20,5.9,66],\n",
    "                 [\"Kola\",\"Male\",19,5.5,78],\n",
    "                 [\"Kunle\",\"Male\",16,6.1,87],\n",
    "                 [\"George\",\"Male\",18,5.4,98],\n",
    "                 [\"Thomas\",\"Male\",17,5.8,54],\n",
    "                 [\"Wesley\",\"Male\",19,5.7,60],]\n",
    "\n",
    "print(\"| NAME | GENDER | AGE | HEIGHT | SCORES \")\n",
    "space = (\"       \")\n",
    "\n",
    "for item in studentsinfo:\n",
    "    print(\"|\",item[0],\n",
    "          \"|\",item[1],\n",
    "          \"|\",item[2],\n",
    "          \"|\",item[3],\n",
    "          \"|\",item[4],)\n",
    "    "
   ]
  },
  {
   "cell_type": "code",
   "execution_count": null,
   "id": "f63e8fff-d5f7-4835-b975-e71aa9df875e",
   "metadata": {},
   "outputs": [],
   "source": []
  },
  {
   "cell_type": "code",
   "execution_count": null,
   "id": "853248e5-537b-4fc6-a2c3-c40a4f063c4e",
   "metadata": {},
   "outputs": [],
   "source": []
  }
 ],
 "metadata": {
  "kernelspec": {
   "display_name": "Python 3 (ipykernel)",
   "language": "python",
   "name": "python3"
  },
  "language_info": {
   "codemirror_mode": {
    "name": "ipython",
    "version": 3
   },
   "file_extension": ".py",
   "mimetype": "text/x-python",
   "name": "python",
   "nbconvert_exporter": "python",
   "pygments_lexer": "ipython3",
   "version": "3.11.7"
  }
 },
 "nbformat": 4,
 "nbformat_minor": 5
}
