{
 "cells": [
  {
   "cell_type": "code",
   "execution_count": 1,
   "id": "7efc5c85-4365-4a9d-b289-e358348ab9db",
   "metadata": {},
   "outputs": [
    {
     "name": "stdin",
     "output_type": "stream",
     "text": [
      "Enter your state pf origin: lagos\n"
     ]
    },
    {
     "name": "stdout",
     "output_type": "stream",
     "text": [
      "Your state of origin is:  lagos\n",
      "The first character is:  l\n",
      "The characters starting from the 3rd to 5th are:  gos\n",
      "The string starting form the 3rd character is:  gos\n",
      "State of origin two times lagoslagos\n"
     ]
    }
   ],
   "source": [
    "str = input(\"Enter your state pf origin:\")\n",
    "\n",
    "print (\"Your state of origin is: \", str)\n",
    "print (\"The first character is: \", str[0])\n",
    "print (\"The characters starting from the 3rd to 5th are: \", str[2:5])\n",
    "print (\"The string starting form the 3rd character is: \", str[2:])\n",
    "print (\"State of origin two times\", str * 2)"
   ]
  },
  {
   "cell_type": "code",
   "execution_count": null,
   "id": "1b43bb60-c997-47df-a58d-04f25e96e51b",
   "metadata": {},
   "outputs": [],
   "source": []
  }
 ],
 "metadata": {
  "kernelspec": {
   "display_name": "Python 3 (ipykernel)",
   "language": "python",
   "name": "python3"
  },
  "language_info": {
   "codemirror_mode": {
    "name": "ipython",
    "version": 3
   },
   "file_extension": ".py",
   "mimetype": "text/x-python",
   "name": "python",
   "nbconvert_exporter": "python",
   "pygments_lexer": "ipython3",
   "version": "3.11.7"
  }
 },
 "nbformat": 4,
 "nbformat_minor": 5
}
