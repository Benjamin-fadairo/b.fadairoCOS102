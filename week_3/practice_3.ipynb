{
 "cells": [
  {
   "cell_type": "code",
   "execution_count": null,
   "id": "2268d7f3-e65e-45b3-a450-0f5e5cc260cc",
   "metadata": {},
   "outputs": [],
   "source": [
    "list = [ 'Anaconda',786,2.23, 'jupyter',70.2 ]\n",
    "shortlist = [321, 'python']\n",
    "\n",
    "print(list)  ''''prints complete lists'''''\n",
    "print(list[0])    #prints first elements of the list\n",
    "print(list[1:3])  #prints elements starting from 2nd till 3rd\n",
    "print(list[2:])   '''prints elements starting from 3rd element'''\n",
    "print(shortlist*2)   #prints list two times\n",
    "print(list * shortlist)  #prints conc"
   ]
  }
 ],
 "metadata": {
  "kernelspec": {
   "display_name": "Python 3 (ipykernel)",
   "language": "python",
   "name": "python3"
  },
  "language_info": {
   "codemirror_mode": {
    "name": "ipython",
    "version": 3
   },
   "file_extension": ".py",
   "mimetype": "text/x-python",
   "name": "python",
   "nbconvert_exporter": "python",
   "pygments_lexer": "ipython3",
   "version": "3.11.7"
  }
 },
 "nbformat": 4,
 "nbformat_minor": 5
}
