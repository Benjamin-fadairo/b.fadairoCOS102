{
 "cells": [
  {
   "cell_type": "code",
   "execution_count": 14,
   "id": "6653e003-e492-43a9-87d1-570485376eba",
   "metadata": {},
   "outputs": [],
   "source": [
    "import tkinter as tk\n",
    "from tkinter import messagebox\n",
    "\n",
    "# Handling button cick event\n",
    "def button_click():\n",
    "    #print(\"Button clicked!)\n",
    "\n",
    "    # Show an information message box\n",
    "    messagebox.showinfo(\"Info\", \"Welcome to COS 102 GUI App!\\n\")\n",
    "\n",
    "    # Ask for user configuration\n",
    "    result = messagebox.askyesno(\"Configuration\", \"Do you want to continue?\")\n",
    "\n",
    "# Create the main window\n",
    "root = tk.Tk()\n",
    "root.title(\"Home page\")\n",
    "root.geometry(\"300x100\")\n",
    "\n",
    "# Add label widget\n",
    "label = tk.Label(root, text=\"Hello Friend \\n\")\n",
    "label.pack()\n",
    "\n",
    "#Add a button widget\n",
    "button = tk.Button(root, text=\"Click Me!\", command=button_click)\n",
    "button.pack()\n",
    "\n",
    "# Styling the button widget\n",
    "button.config(fg=\"red\", bg=\"yellow\")\n",
    "\n",
    "# Start the event loop\n",
    "root.mainloop()"
   ]
  },
  {
   "cell_type": "code",
   "execution_count": null,
   "id": "6fb16ad4-a81d-43ef-bc06-7fb86c9c0e8b",
   "metadata": {},
   "outputs": [],
   "source": []
  },
  {
   "cell_type": "code",
   "execution_count": null,
   "id": "098b210e-7341-433b-bf37-dffa49ad8ecc",
   "metadata": {},
   "outputs": [],
   "source": []
  }
 ],
 "metadata": {
  "kernelspec": {
   "display_name": "Python 3 (ipykernel)",
   "language": "python",
   "name": "python3"
  },
  "language_info": {
   "codemirror_mode": {
    "name": "ipython",
    "version": 3
   },
   "file_extension": ".py",
   "mimetype": "text/x-python",
   "name": "python",
   "nbconvert_exporter": "python",
   "pygments_lexer": "ipython3",
   "version": "3.11.7"
  }
 },
 "nbformat": 4,
 "nbformat_minor": 5
}
