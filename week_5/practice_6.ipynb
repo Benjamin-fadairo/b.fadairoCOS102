{
 "cells": [
  {
   "cell_type": "code",
   "execution_count": 1,
   "id": "2d792d38-327b-4f23-a928-24a623941bef",
   "metadata": {},
   "outputs": [
    {
     "name": "stdout",
     "output_type": "stream",
     "text": [
      "Name:  miki:\n",
      "Age:  50\n",
      "Name:  miki\n",
      "Age:  35\n"
     ]
    }
   ],
   "source": [
    "def printinfo( name, age = 35 ):\n",
    "    #test function\n",
    "    print (\"Name: \", name);\n",
    "    print (\"Age: \",age);\n",
    "    return;\n",
    "printinfo( age=50, name=\"miki:\" );\n",
    "printinfo( name=\"miki\");"
   ]
  },
  {
   "cell_type": "code",
   "execution_count": null,
   "id": "a9e1ad7d-e3b0-4859-8660-48235fe6bce0",
   "metadata": {},
   "outputs": [],
   "source": []
  }
 ],
 "metadata": {
  "kernelspec": {
   "display_name": "Python 3 (ipykernel)",
   "language": "python",
   "name": "python3"
  },
  "language_info": {
   "codemirror_mode": {
    "name": "ipython",
    "version": 3
   },
   "file_extension": ".py",
   "mimetype": "text/x-python",
   "name": "python",
   "nbconvert_exporter": "python",
   "pygments_lexer": "ipython3",
   "version": "3.11.7"
  }
 },
 "nbformat": 4,
 "nbformat_minor": 5
}
