{
 "cells": [
  {
   "cell_type": "code",
   "execution_count": 7,
   "id": "1cdd2718-9930-415c-82fa-5bae515dc745",
   "metadata": {},
   "outputs": [
    {
     "name": "stdout",
     "output_type": "stream",
     "text": [
      "The simple interest is 6.5\n",
      "The compund interest is 2160.0\n",
      "The annuity plan is 1166399.8\n"
     ]
    }
   ],
   "source": [
    "# simple Interest\n",
    "P = 5\n",
    "R = 15\n",
    "T = 2\n",
    "\n",
    "AS = P*(1+(R/100)*T)\n",
    "print(\"The simple interest is\", AS)\n",
    "\n",
    "# compound interest\n",
    "P = 5\n",
    "R = 15\n",
    "N = 3\n",
    "T = 2\n",
    "\n",
    "AC = P*(1+R/N)**N*T\n",
    "print(\"The compund interest is\", AC)\n",
    "\n",
    "# annuity plan\n",
    "PMT = 25\n",
    "R = 15\n",
    "N = 3\n",
    "\n",
    "AP = (PMT)*(1+R/N)**(N*T) - 1/(R/N)\n",
    "print(\"The annuity plan is\", AP)"
   ]
  },
  {
   "cell_type": "code",
   "execution_count": null,
   "id": "ae70e9e9-fdaf-4c8e-b746-a69d0102839b",
   "metadata": {},
   "outputs": [],
   "source": []
  },
  {
   "cell_type": "code",
   "execution_count": null,
   "id": "df259a10-3cdb-466b-a936-872a474a1524",
   "metadata": {},
   "outputs": [],
   "source": []
  }
 ],
 "metadata": {
  "kernelspec": {
   "display_name": "Python 3 (ipykernel)",
   "language": "python",
   "name": "python3"
  },
  "language_info": {
   "codemirror_mode": {
    "name": "ipython",
    "version": 3
   },
   "file_extension": ".py",
   "mimetype": "text/x-python",
   "name": "python",
   "nbconvert_exporter": "python",
   "pygments_lexer": "ipython3",
   "version": "3.11.7"
  }
 },
 "nbformat": 4,
 "nbformat_minor": 5
}
